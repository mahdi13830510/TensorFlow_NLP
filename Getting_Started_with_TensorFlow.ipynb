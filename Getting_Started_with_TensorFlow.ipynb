{
  "nbformat": 4,
  "nbformat_minor": 0,
  "metadata": {
    "colab": {
      "provenance": [],
      "authorship_tag": "ABX9TyMao5P8PFN28VxFsfoNVkQj",
      "include_colab_link": true
    },
    "kernelspec": {
      "name": "python3",
      "display_name": "Python 3"
    },
    "language_info": {
      "name": "python"
    }
  },
  "cells": [
    {
      "cell_type": "markdown",
      "metadata": {
        "id": "view-in-github",
        "colab_type": "text"
      },
      "source": [
        "<a href=\"https://colab.research.google.com/github/mahdi13830510/TensorFlow_NLP/blob/main/Getting_Started_with_TensorFlow.ipynb\" target=\"_parent\"><img src=\"https://colab.research.google.com/assets/colab-badge.svg\" alt=\"Open In Colab\"/></a>"
      ]
    },
    {
      "cell_type": "code",
      "source": [
        "import tensorflow as tf\n",
        "import numpy as np"
      ],
      "metadata": {
        "id": "tr6Jk_q_Qntr"
      },
      "execution_count": 40,
      "outputs": []
    },
    {
      "cell_type": "markdown",
      "source": [
        "Most recipes will folllow this outline:\n",
        "\n",
        "1- **Import or generate datasets:** All of our machine-learining algorithms will depend on datasets. In this book, we will either generate data or use an outside source of datasets. Sometimes it is better to rely on generated data because we wil just want to know the expected outcome. Most of the time, we will access public datasets for given recipe and the details.\n",
        "\n",
        "2- **Transform and normalize data:** Normally, input datasets do not come in the shape TensorFlow would expect so we need to transform TensorFlow them to the accepted shape. The data is usually not in the correct dimension or type that our algorithms expect. We will have to transform our data before we can use it. Most algorithms also expect normalized data and we will do this here as well. TensorFlow has built-in functions that can nomalize the data for you as follow:\n",
        "\n",
        "*data = tr.nn.batch_norm_with_global_normalization(...)*\n",
        "\n",
        "3- **Partition datasets into train, test, and validation sets:** We generally want to test our algorithms on different sets that we have trained on. Also, many algorithms require hyperparameter tuning, so we set aside a validation set for determining the best set of hyperparameters.\n",
        "\n",
        "3- **Set algorithms parameters(hyperparameters):** Our algorithms usually have a set of parameters that we hold constant throughout the procedure. For example, this can be the number of iterations, the learning rate, other fixed parameters of our choosing. It is considered good form to initialize these together so the reader or user can easily find them, as follows:\n",
        "\n",
        "*learning_rate = 0.01*\n",
        "\n",
        "*batch_size = 100*\n",
        "\n",
        "*iterations = 1000*\n",
        "\n",
        "5- **Initialize variables and placeholders:** TensorFlow depends on knowing what it can and cannot modify. TensorFlow will modify/adjust the variables and weight/bias during optimization to minimize a *loss* function. To accomplish this, we feed in data through placeholders. We need to initialize both of these variables and placeholders with size and type, so that TensorFlow knows what to expect. TensorFlow also needs to know the type of data to expect: for most of this book, we will use *float32*. TensorFlow also provides *float64* and *float16*. Note that the more bytes used for precision results in slower algorithms, but the less we use results in less precision. See the following code:\n",
        "\n",
        "*a_var = tf.constant(42)*\n",
        "\n",
        "*x_input = tf.placeholder(tf.float32, [None, input_size])*\n",
        "\n",
        "*y_input = tf.placeholder(tf.float32, [None, num_classes])*\n",
        "\n",
        "6- **Define the model structure:** After we have the data, and have initialized our variables and placeholders, we have to define the model. This is done by building a computational graph. TensorFlow chooses what operations and values must be teh variables and placeholders to arrive at our model outcomes. Our model for this example will be a linear model:\n",
        "\n",
        "*y_pred = tf.add(tf.mul(x_input, weight_matrix), b_matrix)*\n",
        "\n",
        "7- **Declare the loss function:** After defining the model, we must be able to evaluate the output. This is where we declare the *loss* function. The *loss* function is very important as it tells us how far off our predeictions are from the actual values. for example:\n",
        "\n",
        "*loss = tf.reduce_mean(tf.square(y_actual - y_pred))*\n",
        "\n",
        "8- ** Initialize and train the model:** Now that we have everything in place, we need to create an isntance of our graph, feed in the data through the placeholders, and let TensorFlow change the variables to better predict our training data. Here is one way to initialize the computational graph:\n",
        "\n",
        "\n",
        "*with tf.session(graph=graph) as session:*\n",
        "> *...*\n",
        "\n",
        "> *session.run(...)*\n",
        "\n",
        "> *...*\n",
        "\n",
        "Note that we can also initiate our graph with:\n",
        "\n",
        "*session = tf.Session(graph=graph)*\n",
        "\n",
        "*session.run(...)*\n",
        "\n",
        "9- **Evaluate the model:** Oncee we have built and trained the model, we should evaluate the model by looking at how well it does with new data through some specified criteria. We evaluate on the train and test set and these evaluations will allow us to see if the model id underfit or overfit. We will address these in later recipes.\n",
        "\n",
        "10- **Tune hyperparameters:** Most of the times, we will want to go back and change some of the hyperparameters, based on the model performance. We then repeat the previous steps with diffrent hyperparameters and evaluate the model on the validation set.\n",
        "\n",
        "11_ **Deploy/predict new outcomes:** It is also important to know how to make predictions on new. unseen, data. We can do this with all of our models, once we have them trained.\n"
      ],
      "metadata": {
        "id": "0p28dtt9ENCG"
      }
    },
    {
      "cell_type": "markdown",
      "source": [
        "# Declaring Tensors\n",
        "\n",
        "Tensors are the primary data structure that TensorFlow uses to operate on the computational graph. We can declare these tensors as variables and or feed them in as placeholders. First we must know how to create tensors.\n",
        "When we create a tensor and declare it to be a variable, TensorFlow creates several graph structures in our computation graph. It is also important to point out that just by creating a tensor, TensorFlow is not adding anything to the computational graph.\n",
        "\n",
        "Here we will cover the main ways to create tensors in TensorFlow:"
      ],
      "metadata": {
        "id": "a7-K3fwlPLjT"
      }
    },
    {
      "cell_type": "markdown",
      "source": [
        "##1- Fixed tensors:"
      ],
      "metadata": {
        "id": "9yEUX2ijQVRf"
      }
    },
    {
      "cell_type": "code",
      "source": [
        "# Create a zero filled tensor. Use the following:\n",
        "zero_tsr = tf.zeros([2, 2])\n",
        "print(zero_tsr)"
      ],
      "metadata": {
        "colab": {
          "base_uri": "https://localhost:8080/"
        },
        "id": "ZWsB3PRQEOPS",
        "outputId": "3b92b170-116a-4b3a-fc6d-bbf656bdf56b"
      },
      "execution_count": 3,
      "outputs": [
        {
          "output_type": "stream",
          "name": "stdout",
          "text": [
            "tf.Tensor(\n",
            "[[0. 0.]\n",
            " [0. 0.]], shape=(2, 2), dtype=float32)\n"
          ]
        }
      ]
    },
    {
      "cell_type": "code",
      "source": [
        "# Create a one filled tensor. Use the following:\n",
        "ones_tsr = tf.ones([2, 2])\n",
        "print(ones_tsr)"
      ],
      "metadata": {
        "colab": {
          "base_uri": "https://localhost:8080/"
        },
        "id": "V-aLZBx7RKJQ",
        "outputId": "78bf5a4b-8d62-45d1-e7fc-7cc9a520e0ee"
      },
      "execution_count": 4,
      "outputs": [
        {
          "output_type": "stream",
          "name": "stdout",
          "text": [
            "tf.Tensor(\n",
            "[[1. 1.]\n",
            " [1. 1.]], shape=(2, 2), dtype=float32)\n"
          ]
        }
      ]
    },
    {
      "cell_type": "code",
      "source": [
        "# Create a constant filled tensor. Use the following:\n",
        "filled_tsr = tf.fill([2, 2], 42)\n",
        "print(filled_tsr)"
      ],
      "metadata": {
        "colab": {
          "base_uri": "https://localhost:8080/"
        },
        "id": "zunkccSuRXUh",
        "outputId": "36f3472a-e2bb-438f-ced7-467b55a2d6c9"
      },
      "execution_count": 5,
      "outputs": [
        {
          "output_type": "stream",
          "name": "stdout",
          "text": [
            "tf.Tensor(\n",
            "[[42 42]\n",
            " [42 42]], shape=(2, 2), dtype=int32)\n"
          ]
        }
      ]
    },
    {
      "cell_type": "code",
      "source": [
        "# Create a tensor out of an existing constant. Use the following:\n",
        "constant_tsr = tf.constant([1, 2, 3])\n",
        "print(constant_tsr)"
      ],
      "metadata": {
        "colab": {
          "base_uri": "https://localhost:8080/"
        },
        "id": "xJAqeg_-Rob1",
        "outputId": "4642aca5-f019-42ba-ebfa-d7caefc5feff"
      },
      "execution_count": 6,
      "outputs": [
        {
          "output_type": "stream",
          "name": "stdout",
          "text": [
            "tf.Tensor([1 2 3], shape=(3,), dtype=int32)\n"
          ]
        }
      ]
    },
    {
      "cell_type": "markdown",
      "source": [
        "\n",
        "Note\n",
        "---\n",
        "Note that the *tf.constant()* function can be used to broadcast a value into an array, mimicking the bahavior of *tf.fill()* by writing *tf.constant(42, [row_dim, col_dim])*"
      ],
      "metadata": {
        "id": "b0pMbNpiR-A3"
      }
    },
    {
      "cell_type": "markdown",
      "source": [
        "##2- Tensors of similar shape:"
      ],
      "metadata": {
        "id": "Z059uTNcShwS"
      }
    },
    {
      "cell_type": "code",
      "source": [
        "# We can also initialize variables based on the shape of other tensors:\n",
        "zeros_similar = tf.zeros_like(constant_tsr)\n",
        "ones_similar = tf.ones_like(constant_tsr)\n",
        "print(f\"zeros_similar: {zeros_similar}\\n\" +\n",
        "      f\"ones_similar: {ones_similar}\")"
      ],
      "metadata": {
        "colab": {
          "base_uri": "https://localhost:8080/"
        },
        "id": "T7ptCW1wSoMn",
        "outputId": "4ae8cf8f-a3da-4704-d81c-f818651ccaaf"
      },
      "execution_count": 8,
      "outputs": [
        {
          "output_type": "stream",
          "name": "stdout",
          "text": [
            "zeros_similar: [0 0 0]\n",
            "ones_similar: [1 1 1]\n"
          ]
        }
      ]
    },
    {
      "cell_type": "markdown",
      "source": [
        "\n",
        "Note\n",
        "---\n",
        "Note, that since these tensors depend on prior tensors, we must initialize them in oreder. Attempting to initialize all the tensors all at once willwould result in an error"
      ],
      "metadata": {
        "id": "3aasF1VHTiHV"
      }
    },
    {
      "cell_type": "markdown",
      "source": [
        "##3- Sequence tensors:"
      ],
      "metadata": {
        "id": "pWvY6eY9T36R"
      }
    },
    {
      "cell_type": "code",
      "source": [
        "\"\"\"\n",
        "TensorFlow allows us to specify tensors that contain defined intervals.\n",
        "The folloing functions bahave very similarly to the range() outputs and\n",
        "numpy's linespace() outputs. See the following function:\n",
        "\"\"\"\n",
        "linear_tsr = tf.linspace(0, 1, 3)\n",
        "print(linear_tsr)"
      ],
      "metadata": {
        "colab": {
          "base_uri": "https://localhost:8080/"
        },
        "id": "pJY-E-j3UAsK",
        "outputId": "8e39ff54-4460-4326-c939-6da736b110ee"
      },
      "execution_count": 15,
      "outputs": [
        {
          "output_type": "stream",
          "name": "stdout",
          "text": [
            "tf.Tensor([0.  0.5 1. ], shape=(3,), dtype=float64)\n"
          ]
        }
      ]
    },
    {
      "cell_type": "code",
      "source": [
        "\"\"\"\n",
        "Note that this function includes the specfified stop value. See the\n",
        "following function:\n",
        "\"\"\"\n",
        "integer_seq_tsr = tf.range(start=6, limit=15, delta=3)\n",
        "print(integer_seq_tsr)\n",
        "# Note that this function does not include the limit value"
      ],
      "metadata": {
        "colab": {
          "base_uri": "https://localhost:8080/"
        },
        "id": "EFyEZU-oVw8l",
        "outputId": "b4474581-1b9a-418f-87a5-d6df81c1d5ed"
      },
      "execution_count": 16,
      "outputs": [
        {
          "output_type": "stream",
          "name": "stdout",
          "text": [
            "tf.Tensor([ 6  9 12], shape=(3,), dtype=int32)\n"
          ]
        }
      ]
    },
    {
      "cell_type": "markdown",
      "source": [
        "##4- Random tensors:"
      ],
      "metadata": {
        "id": "IRXQsn9kWkIY"
      }
    },
    {
      "cell_type": "code",
      "source": [
        "\"\"\"\n",
        "Note that this random uniform distribution draws from the interval\n",
        "that includes the minval but not the maxval\n",
        "(minval <= x < maxval)\n",
        "\"\"\"\n",
        "# The following generatedd random numbers are from a unifrom distribution:\n",
        "randunif_tsr = tf.random.uniform([2, 2], minval=0, maxval=1)\n",
        "print(randunif_tsr)"
      ],
      "metadata": {
        "colab": {
          "base_uri": "https://localhost:8080/"
        },
        "id": "ZrHQ6HwyWoa5",
        "outputId": "c7e637f9-2459-4639-ca70-33ca875978de"
      },
      "execution_count": 21,
      "outputs": [
        {
          "output_type": "stream",
          "name": "stdout",
          "text": [
            "tf.Tensor(\n",
            "[[0.3221202  0.07705283]\n",
            " [0.5458449  0.8150064 ]], shape=(2, 2), dtype=float32)\n"
          ]
        }
      ]
    },
    {
      "cell_type": "code",
      "source": [
        "# To get a tensor with random draws from a normal distribution, as follows:\n",
        "randnorm_tsr = tf.random.normal([2, 2], mean=0.0, stddev=1.0)\n",
        "print(randnorm_tsr)"
      ],
      "metadata": {
        "colab": {
          "base_uri": "https://localhost:8080/"
        },
        "id": "bgNRSJq2fmIc",
        "outputId": "1b4362d2-09ed-464d-e5f3-bcda7c0e7210"
      },
      "execution_count": 22,
      "outputs": [
        {
          "output_type": "stream",
          "name": "stdout",
          "text": [
            "tf.Tensor(\n",
            "[[-0.3281341  -1.2613165 ]\n",
            " [-0.41676232  0.5077727 ]], shape=(2, 2), dtype=float32)\n"
          ]
        }
      ]
    },
    {
      "cell_type": "code",
      "source": [
        "\"\"\"\n",
        "There are also times when we wish to generate normal random values\n",
        "that are assured within certain bounds.\n",
        "The truncated_normal() function always picks normal values within\n",
        "two standard deviations of the specified mean. See following :\n",
        "\"\"\"\n",
        "runcnorm_tsr = tf.random.truncated_normal([2, 2], mean=0.0, stddev=1.0)\n",
        "print(runcnorm_tsr)"
      ],
      "metadata": {
        "colab": {
          "base_uri": "https://localhost:8080/"
        },
        "id": "rPNwW54MgChy",
        "outputId": "de5c224c-5a3b-4419-cc2d-0d8fc7779221"
      },
      "execution_count": 25,
      "outputs": [
        {
          "output_type": "stream",
          "name": "stdout",
          "text": [
            "tf.Tensor(\n",
            "[[-0.5959731  -0.19434686]\n",
            " [ 0.70934916  1.0583062 ]], shape=(2, 2), dtype=float32)\n"
          ]
        }
      ]
    },
    {
      "cell_type": "code",
      "source": [
        "\"\"\"\n",
        "We might also be interested in randomizing entries of arrays.\n",
        "To accomplish this, there are one functions that help us:\n",
        "random_shuffle() See as following:\n",
        "\"\"\"\n",
        "shuffled_output = tf.random.shuffle(runcnorm_tsr)\n",
        "print(shuffled_output)\n"
      ],
      "metadata": {
        "colab": {
          "base_uri": "https://localhost:8080/"
        },
        "id": "ig7mJam-hA6u",
        "outputId": "96354d5d-f2ec-49c8-e4a4-2277b4c0d9bf"
      },
      "execution_count": 32,
      "outputs": [
        {
          "output_type": "stream",
          "name": "stdout",
          "text": [
            "tf.Tensor(\n",
            "[[-0.5959731  -0.19434686]\n",
            " [ 0.70934916  1.0583062 ]], shape=(2, 2), dtype=float32)\n"
          ]
        }
      ]
    },
    {
      "cell_type": "markdown",
      "source": [
        "Once we have decided on how to create the tensors, then we may also create the correspondeing variables by wrapping the tensor in the *Variable()* function, as follows:\n",
        "\n",
        "*my_var = tf.Variable(tf.zeros([row_dim, col_dim]))*\n",
        "\n",
        "We are not limited to the built_in functions. We can convert any *numpy* array to a Python list, or constant to a tensor using the function *convert_to_tensor()* . Note that this function also accepts tensors as an input in case we wish to generalize a computation inside a function."
      ],
      "metadata": {
        "id": "1DWdM0G4ibik"
      }
    },
    {
      "cell_type": "markdown",
      "source": [
        "# Using Placeholders and Variables\n",
        "Placeholders and variables are key tools for using computational graphs in TensorFlow. We must understand the difference and when to best use them to our advantage."
      ],
      "metadata": {
        "id": "_3rdqKxUkl-5"
      }
    },
    {
      "cell_type": "markdown",
      "source": [
        "One of the most important distinctions to make with the data is whether it is a placeholder or a variable. Variables are the parameters of the algorithm and TensorFlow keeps track of how to change these to optimize the algorithms. Placeholders are objects that allow you to feed in data of a specific type and shape and depend on the results of the computational graph, such as the expected outcome of a computation."
      ],
      "metadata": {
        "id": "x0bSyY51lMzh"
      }
    },
    {
      "cell_type": "markdown",
      "source": [
        "The main way to create a vairable is by using *Variable()* function, which takes a tensor as an input and outputs a variable. This is the declaration and we still need to initialize the variable. Initializing is what puts the varaible with the corresponding methods on the computational graph. Here is an example of creating and initializing a variable:"
      ],
      "metadata": {
        "id": "6V_8ROvLl_-z"
      }
    },
    {
      "cell_type": "code",
      "source": [
        "my_var = tf.Variable(tf.zeros([2, 3]))\n",
        "sess = tf.compat.v1.Session()\n",
        "initialize_op = tf.compat.v1.global_variables_initializer()\n",
        "sess.run(initialize_op)\n"
      ],
      "metadata": {
        "id": "Htra1MaHml3Q"
      },
      "execution_count": 39,
      "outputs": []
    },
    {
      "cell_type": "markdown",
      "source": [
        "Placeholders are just holding the position for data to be fed into the graph. Placeholders get data from *feed_dict* argument in the session. To put a placeholder in the graph, we must perform at least one operation on the placeholder. We initialize the graph, declare *x* to be a placeholder, and define *y* as the identity operation on *x*, which just returns *x*. We then create data to feed into the *x* placeholder and run the identity operation. It is worth noting that TensorFlow will not return a self-referenced placeholder in the feed dictionary. The code is shown here and the resulting graph is shwon in the next session:"
      ],
      "metadata": {
        "id": "4AvCRXjfoQ08"
      }
    },
    {
      "cell_type": "code",
      "source": [
        "sess = tf.compat.v1.Session()\n",
        "x = tf.compat.v1.placeholder(tf.float32, shape=[2, 2])\n",
        "y = tf.identity(x)\n",
        "x_vals = np.random.rand(2, 2)\n",
        "sess.run(y, feed_dict={x: x_vals})\n",
        "# Note that sess.run(x, feed_dict={x: x_vals}) will result in a self-referencing error"
      ],
      "metadata": {
        "colab": {
          "base_uri": "https://localhost:8080/"
        },
        "id": "PoQl0i09pQWb",
        "outputId": "e37b8c80-0e77-4220-ff7e-f04a3b0f30a7"
      },
      "execution_count": 42,
      "outputs": [
        {
          "output_type": "execute_result",
          "data": {
            "text/plain": [
              "array([[0.04594006, 0.85711676],\n",
              "       [0.67188704, 0.5033806 ]], dtype=float32)"
            ]
          },
          "metadata": {},
          "execution_count": 42
        }
      ]
    },
    {
      "cell_type": "markdown",
      "source": [
        "The computational graph of initializing a variable as a tensor of zeros is shown in the following figure:\n",
        "![image.png](data:image/png;base64,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)\n"
      ],
      "metadata": {
        "id": "GKrJc_5yqa_2"
      }
    },
    {
      "cell_type": "markdown",
      "source": [],
      "metadata": {
        "id": "_tAbupO_q77D"
      }
    }
  ]
}