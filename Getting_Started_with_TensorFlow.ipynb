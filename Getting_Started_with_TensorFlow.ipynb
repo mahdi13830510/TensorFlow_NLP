{
  "nbformat": 4,
  "nbformat_minor": 0,
  "metadata": {
    "colab": {
      "provenance": [],
      "authorship_tag": "ABX9TyO8CtcWAompEQhW2L9PS7Cj",
      "include_colab_link": true
    },
    "kernelspec": {
      "name": "python3",
      "display_name": "Python 3"
    },
    "language_info": {
      "name": "python"
    }
  },
  "cells": [
    {
      "cell_type": "markdown",
      "metadata": {
        "id": "view-in-github",
        "colab_type": "text"
      },
      "source": [
        "<a href=\"https://colab.research.google.com/github/mahdi13830510/TensorFlow_NLP/blob/main/Getting_Started_with_TensorFlow.ipynb\" target=\"_parent\"><img src=\"https://colab.research.google.com/assets/colab-badge.svg\" alt=\"Open In Colab\"/></a>"
      ]
    },
    {
      "cell_type": "code",
      "source": [
        "import tensorflow as tf\n",
        "import numpy as np"
      ],
      "metadata": {
        "id": "tr6Jk_q_Qntr"
      },
      "execution_count": 2,
      "outputs": []
    },
    {
      "cell_type": "markdown",
      "source": [
        "Most recipes will folllow this outline:\n",
        "\n",
        "1- **Import or generate datasets:** All of our machine-learining algorithms will depend on datasets. In this book, we will either generate data or use an outside source of datasets. Sometimes it is better to rely on generated data because we wil just want to know the expected outcome. Most of the time, we will access public datasets for given recipe and the details.\n",
        "\n",
        "2- **Transform and normalize data:** Normally, input datasets do not come in the shape TensorFlow would expect so we need to transform TensorFlow them to the accepted shape. The data is usually not in the correct dimension or type that our algorithms expect. We will have to transform our data before we can use it. Most algorithms also expect normalized data and we will do this here as well. TensorFlow has built-in functions that can nomalize the data for you as follow:\n",
        "```\n",
        "data = tr.nn.batch_norm_with_global_normalization(...)\n",
        "```\n",
        "3- **Partition datasets into train, test, and validation sets:** We generally want to test our algorithms on different sets that we have trained on. Also, many algorithms require hyperparameter tuning, so we set aside a validation set for determining the best set of hyperparameters.\n",
        "\n",
        "3- **Set algorithms parameters(hyperparameters):** Our algorithms usually have a set of parameters that we hold constant throughout the procedure. For example, this can be the number of iterations, the learning rate, other fixed parameters of our choosing. It is considered good form to initialize these together so the reader or user can easily find them, as follows:\n",
        "```\n",
        "learning_rate = 0.01\n",
        "batch_size = 100\n",
        "iterations = 1000\n",
        "```\n",
        "5- **Initialize variables and placeholders:** TensorFlow depends on knowing what it can and cannot modify. TensorFlow will modify/adjust the variables and weight/bias during optimization to minimize a *loss* function. To accomplish this, we feed in data through placeholders. We need to initialize both of these variables and placeholders with size and type, so that TensorFlow knows what to expect. TensorFlow also needs to know the type of data to expect: for most of this book, we will use *float32*. TensorFlow also provides *float64* and *float16*. Note that the more bytes used for precision results in slower algorithms, but the less we use results in less precision. See the following code:\n",
        "```\n",
        "a_var = tf.constant(42)\n",
        "x_input = tf.placeholder(tf.float32, [None, input_size])\n",
        "y_input = tf.placeholder(tf.float32, [None, num_classes])\n",
        "```\n",
        "6- **Define the model structure:** After we have the data, and have initialized our variables and placeholders, we have to define the model. This is done by building a computational graph. TensorFlow chooses what operations and values must be teh variables and placeholders to arrive at our model outcomes. Our model for this example will be a linear model:\n",
        "```\n",
        "y_pred = tf.add(tf.mul(x_input, weight_matrix), b_matrix)\n",
        "```\n",
        "7- **Declare the loss function:** After defining the model, we must be able to evaluate the output. This is where we declare the *loss* function. The *loss* function is very important as it tells us how far off our predeictions are from the actual values. for example:\n",
        "```\n",
        "loss = tf.reduce_mean(tf.square(y_actual - y_pred))\n",
        "```\n",
        "8- ** Initialize and train the model:** Now that we have everything in place, we need to create an isntance of our graph, feed in the data through the placeholders, and let TensorFlow change the variables to better predict our training data. Here is one way to initialize the computational graph:\n",
        "```\n",
        "with tf.session(graph=graph) as session:\n",
        "  ...\n",
        "  session.run(...)\n",
        "  ...\n",
        "```\n",
        "Note that we can also initiate our graph with:\n",
        "```\n",
        "session = tf.Session(graph=graph)\n",
        "session.run(...)\n",
        "```\n",
        "9- **Evaluate the model:** Oncee we have built and trained the model, we should evaluate the model by looking at how well it does with new data through some specified criteria. We evaluate on the train and test set and these evaluations will allow us to see if the model id underfit or overfit. We will address these in later recipes.\n",
        "\n",
        "10- **Tune hyperparameters:** Most of the times, we will want to go back and change some of the hyperparameters, based on the model performance. We then repeat the previous steps with diffrent hyperparameters and evaluate the model on the validation set.\n",
        "\n",
        "11_ **Deploy/predict new outcomes:** It is also important to know how to make predictions on new. unseen, data. We can do this with all of our models, once we have them trained.\n"
      ],
      "metadata": {
        "id": "0p28dtt9ENCG"
      }
    },
    {
      "cell_type": "markdown",
      "source": [
        "# Declaring Tensors\n",
        "\n",
        "Tensors are the primary data structure that TensorFlow uses to operate on the computational graph. We can declare these tensors as variables and or feed them in as placeholders. First we must know how to create tensors.\n",
        "When we create a tensor and declare it to be a variable, TensorFlow creates several graph structures in our computation graph. It is also important to point out that just by creating a tensor, TensorFlow is not adding anything to the computational graph.\n",
        "\n",
        "Here we will cover the main ways to create tensors in TensorFlow:"
      ],
      "metadata": {
        "id": "a7-K3fwlPLjT"
      }
    },
    {
      "cell_type": "markdown",
      "source": [
        "##1- Fixed tensors:"
      ],
      "metadata": {
        "id": "9yEUX2ijQVRf"
      }
    },
    {
      "cell_type": "code",
      "source": [
        "# Create a zero filled tensor. Use the following:\n",
        "zero_tsr = tf.zeros([2, 2])\n",
        "print(zero_tsr)"
      ],
      "metadata": {
        "colab": {
          "base_uri": "https://localhost:8080/"
        },
        "id": "ZWsB3PRQEOPS",
        "outputId": "d1bcbd97-3268-43fb-ad54-cf7d800ab8ab"
      },
      "execution_count": null,
      "outputs": [
        {
          "output_type": "stream",
          "name": "stdout",
          "text": [
            "tf.Tensor(\n",
            "[[0. 0.]\n",
            " [0. 0.]], shape=(2, 2), dtype=float32)\n"
          ]
        }
      ]
    },
    {
      "cell_type": "code",
      "source": [
        "# Create a one filled tensor. Use the following:\n",
        "ones_tsr = tf.ones([2, 2])\n",
        "print(ones_tsr)"
      ],
      "metadata": {
        "colab": {
          "base_uri": "https://localhost:8080/"
        },
        "id": "V-aLZBx7RKJQ",
        "outputId": "78bf5a4b-8d62-45d1-e7fc-7cc9a520e0ee"
      },
      "execution_count": null,
      "outputs": [
        {
          "output_type": "stream",
          "name": "stdout",
          "text": [
            "tf.Tensor(\n",
            "[[1. 1.]\n",
            " [1. 1.]], shape=(2, 2), dtype=float32)\n"
          ]
        }
      ]
    },
    {
      "cell_type": "code",
      "source": [
        "# Create a constant filled tensor. Use the following:\n",
        "filled_tsr = tf.fill([2, 2], 42)\n",
        "print(filled_tsr)"
      ],
      "metadata": {
        "colab": {
          "base_uri": "https://localhost:8080/"
        },
        "id": "zunkccSuRXUh",
        "outputId": "36f3472a-e2bb-438f-ced7-467b55a2d6c9"
      },
      "execution_count": null,
      "outputs": [
        {
          "output_type": "stream",
          "name": "stdout",
          "text": [
            "tf.Tensor(\n",
            "[[42 42]\n",
            " [42 42]], shape=(2, 2), dtype=int32)\n"
          ]
        }
      ]
    },
    {
      "cell_type": "code",
      "source": [
        "# Create a tensor out of an existing constant. Use the following:\n",
        "constant_tsr = tf.constant([1, 2, 3])\n",
        "print(constant_tsr)"
      ],
      "metadata": {
        "colab": {
          "base_uri": "https://localhost:8080/"
        },
        "id": "xJAqeg_-Rob1",
        "outputId": "4642aca5-f019-42ba-ebfa-d7caefc5feff"
      },
      "execution_count": null,
      "outputs": [
        {
          "output_type": "stream",
          "name": "stdout",
          "text": [
            "tf.Tensor([1 2 3], shape=(3,), dtype=int32)\n"
          ]
        }
      ]
    },
    {
      "cell_type": "markdown",
      "source": [
        "\n",
        "Note\n",
        "---\n",
        "Note that the *tf.constant()* function can be used to broadcast a value into an array, mimicking the bahavior of *tf.fill()* by writing *tf.constant(42, [row_dim, col_dim])*"
      ],
      "metadata": {
        "id": "b0pMbNpiR-A3"
      }
    },
    {
      "cell_type": "markdown",
      "source": [
        "##2- Tensors of similar shape:"
      ],
      "metadata": {
        "id": "Z059uTNcShwS"
      }
    },
    {
      "cell_type": "code",
      "source": [
        "# We can also initialize variables based on the shape of other tensors:\n",
        "zeros_similar = tf.zeros_like(constant_tsr)\n",
        "ones_similar = tf.ones_like(constant_tsr)\n",
        "print(f\"zeros_similar: {zeros_similar}\\n\" +\n",
        "      f\"ones_similar: {ones_similar}\")"
      ],
      "metadata": {
        "colab": {
          "base_uri": "https://localhost:8080/"
        },
        "id": "T7ptCW1wSoMn",
        "outputId": "4ae8cf8f-a3da-4704-d81c-f818651ccaaf"
      },
      "execution_count": null,
      "outputs": [
        {
          "output_type": "stream",
          "name": "stdout",
          "text": [
            "zeros_similar: [0 0 0]\n",
            "ones_similar: [1 1 1]\n"
          ]
        }
      ]
    },
    {
      "cell_type": "markdown",
      "source": [
        "\n",
        "Note\n",
        "---\n",
        "Note, that since these tensors depend on prior tensors, we must initialize them in oreder. Attempting to initialize all the tensors all at once willwould result in an error"
      ],
      "metadata": {
        "id": "3aasF1VHTiHV"
      }
    },
    {
      "cell_type": "markdown",
      "source": [
        "##3- Sequence tensors:"
      ],
      "metadata": {
        "id": "pWvY6eY9T36R"
      }
    },
    {
      "cell_type": "code",
      "source": [
        "\"\"\"\n",
        "TensorFlow allows us to specify tensors that contain defined intervals.\n",
        "The folloing functions bahave very similarly to the range() outputs and\n",
        "numpy's linespace() outputs. See the following function:\n",
        "\"\"\"\n",
        "linear_tsr = tf.linspace(0, 1, 3)\n",
        "print(linear_tsr)"
      ],
      "metadata": {
        "colab": {
          "base_uri": "https://localhost:8080/"
        },
        "id": "pJY-E-j3UAsK",
        "outputId": "8e39ff54-4460-4326-c939-6da736b110ee"
      },
      "execution_count": null,
      "outputs": [
        {
          "output_type": "stream",
          "name": "stdout",
          "text": [
            "tf.Tensor([0.  0.5 1. ], shape=(3,), dtype=float64)\n"
          ]
        }
      ]
    },
    {
      "cell_type": "code",
      "source": [
        "\"\"\"\n",
        "Note that this function includes the specfified stop value. See the\n",
        "following function:\n",
        "\"\"\"\n",
        "integer_seq_tsr = tf.range(start=6, limit=15, delta=3)\n",
        "print(integer_seq_tsr)\n",
        "# Note that this function does not include the limit value"
      ],
      "metadata": {
        "colab": {
          "base_uri": "https://localhost:8080/"
        },
        "id": "EFyEZU-oVw8l",
        "outputId": "b4474581-1b9a-418f-87a5-d6df81c1d5ed"
      },
      "execution_count": null,
      "outputs": [
        {
          "output_type": "stream",
          "name": "stdout",
          "text": [
            "tf.Tensor([ 6  9 12], shape=(3,), dtype=int32)\n"
          ]
        }
      ]
    },
    {
      "cell_type": "markdown",
      "source": [
        "##4- Random tensors:"
      ],
      "metadata": {
        "id": "IRXQsn9kWkIY"
      }
    },
    {
      "cell_type": "code",
      "source": [
        "\"\"\"\n",
        "Note that this random uniform distribution draws from the interval\n",
        "that includes the minval but not the maxval\n",
        "(minval <= x < maxval)\n",
        "\"\"\"\n",
        "# The following generatedd random numbers are from a unifrom distribution:\n",
        "randunif_tsr = tf.random.uniform([2, 2], minval=0, maxval=1)\n",
        "print(randunif_tsr)"
      ],
      "metadata": {
        "colab": {
          "base_uri": "https://localhost:8080/"
        },
        "id": "ZrHQ6HwyWoa5",
        "outputId": "c7e637f9-2459-4639-ca70-33ca875978de"
      },
      "execution_count": null,
      "outputs": [
        {
          "output_type": "stream",
          "name": "stdout",
          "text": [
            "tf.Tensor(\n",
            "[[0.3221202  0.07705283]\n",
            " [0.5458449  0.8150064 ]], shape=(2, 2), dtype=float32)\n"
          ]
        }
      ]
    },
    {
      "cell_type": "code",
      "source": [
        "# To get a tensor with random draws from a normal distribution, as follows:\n",
        "randnorm_tsr = tf.random.normal([2, 2], mean=0.0, stddev=1.0)\n",
        "print(randnorm_tsr)"
      ],
      "metadata": {
        "colab": {
          "base_uri": "https://localhost:8080/"
        },
        "id": "bgNRSJq2fmIc",
        "outputId": "1b4362d2-09ed-464d-e5f3-bcda7c0e7210"
      },
      "execution_count": null,
      "outputs": [
        {
          "output_type": "stream",
          "name": "stdout",
          "text": [
            "tf.Tensor(\n",
            "[[-0.3281341  -1.2613165 ]\n",
            " [-0.41676232  0.5077727 ]], shape=(2, 2), dtype=float32)\n"
          ]
        }
      ]
    },
    {
      "cell_type": "code",
      "source": [
        "\"\"\"\n",
        "There are also times when we wish to generate normal random values\n",
        "that are assured within certain bounds.\n",
        "The truncated_normal() function always picks normal values within\n",
        "two standard deviations of the specified mean. See following :\n",
        "\"\"\"\n",
        "runcnorm_tsr = tf.random.truncated_normal([2, 2], mean=0.0, stddev=1.0)\n",
        "print(runcnorm_tsr)"
      ],
      "metadata": {
        "colab": {
          "base_uri": "https://localhost:8080/"
        },
        "id": "rPNwW54MgChy",
        "outputId": "de5c224c-5a3b-4419-cc2d-0d8fc7779221"
      },
      "execution_count": null,
      "outputs": [
        {
          "output_type": "stream",
          "name": "stdout",
          "text": [
            "tf.Tensor(\n",
            "[[-0.5959731  -0.19434686]\n",
            " [ 0.70934916  1.0583062 ]], shape=(2, 2), dtype=float32)\n"
          ]
        }
      ]
    },
    {
      "cell_type": "code",
      "source": [
        "\"\"\"\n",
        "We might also be interested in randomizing entries of arrays.\n",
        "To accomplish this, there are one functions that help us:\n",
        "random_shuffle() See as following:\n",
        "\"\"\"\n",
        "shuffled_output = tf.random.shuffle(runcnorm_tsr)\n",
        "print(shuffled_output)\n"
      ],
      "metadata": {
        "id": "ig7mJam-hA6u"
      },
      "execution_count": null,
      "outputs": []
    },
    {
      "cell_type": "markdown",
      "source": [
        "Once we have decided on how to create the tensors, then we may also create the correspondeing variables by wrapping the tensor in the *Variable()* function, as follows:\n",
        "```\n",
        "my_var = tf.Variable(tf.zeros([row_dim, col_dim]))\n",
        "```\n",
        "We are not limited to the built_in functions. We can convert any *numpy* array to a Python list, or constant to a tensor using the function *convert_to_tensor()* . Note that this function also accepts tensors as an input in case we wish to generalize a computation inside a function."
      ],
      "metadata": {
        "id": "1DWdM0G4ibik"
      }
    },
    {
      "cell_type": "markdown",
      "source": [
        "# Using Placeholders and Variables\n",
        "Placeholders and variables are key tools for using computational graphs in TensorFlow. We must understand the difference and when to best use them to our advantage."
      ],
      "metadata": {
        "id": "_3rdqKxUkl-5"
      }
    },
    {
      "cell_type": "markdown",
      "source": [
        "One of the most important distinctions to make with the data is whether it is a placeholder or a variable. Variables are the parameters of the algorithm and TensorFlow keeps track of how to change these to optimize the algorithms. Placeholders are objects that allow you to feed in data of a specific type and shape and depend on the results of the computational graph, such as the expected outcome of a computation."
      ],
      "metadata": {
        "id": "x0bSyY51lMzh"
      }
    },
    {
      "cell_type": "markdown",
      "source": [
        "The main way to create a vairable is by using *Variable()* function, which takes a tensor as an input and outputs a variable. This is the declaration and we still need to initialize the variable. Initializing is what puts the varaible with the corresponding methods on the computational graph. Here is an example of creating and initializing a variable:"
      ],
      "metadata": {
        "id": "6V_8ROvLl_-z"
      }
    },
    {
      "cell_type": "code",
      "source": [
        "my_var = tf.Variable(tf.zeros([2, 3]))\n",
        "sess = tf.compat.v1.Session()\n",
        "initialize_op = tf.compat.v1.global_variables_initializer()\n",
        "sess.run(initialize_op)\n"
      ],
      "metadata": {
        "id": "Htra1MaHml3Q"
      },
      "execution_count": null,
      "outputs": []
    },
    {
      "cell_type": "markdown",
      "source": [
        "Placeholders are just holding the position for data to be fed into the graph. Placeholders get data from *feed_dict* argument in the session. To put a placeholder in the graph, we must perform at least one operation on the placeholder. We initialize the graph, declare *x* to be a placeholder, and define *y* as the identity operation on *x*, which just returns *x*. We then create data to feed into the *x* placeholder and run the identity operation. It is worth noting that TensorFlow will not return a self-referenced placeholder in the feed dictionary. The code is shown here and the resulting graph is shwon in the next session:"
      ],
      "metadata": {
        "id": "4AvCRXjfoQ08"
      }
    },
    {
      "cell_type": "code",
      "source": [
        "sess = tf.compat.v1.Session()\n",
        "x = tf.compat.v1.placeholder(tf.float32, shape=[2, 2])\n",
        "y = tf.identity(x)\n",
        "x_vals = np.random.rand(2, 2)\n",
        "sess.run(y, feed_dict={x: x_vals})\n",
        "# Note that sess.run(x, feed_dict={x: x_vals}) will result in a self-referencing error"
      ],
      "metadata": {
        "colab": {
          "base_uri": "https://localhost:8080/"
        },
        "id": "PoQl0i09pQWb",
        "outputId": "e37b8c80-0e77-4220-ff7e-f04a3b0f30a7"
      },
      "execution_count": null,
      "outputs": [
        {
          "output_type": "execute_result",
          "data": {
            "text/plain": [
              "array([[0.04594006, 0.85711676],\n",
              "       [0.67188704, 0.5033806 ]], dtype=float32)"
            ]
          },
          "metadata": {},
          "execution_count": 42
        }
      ]
    },
    {
      "cell_type": "markdown",
      "source": [
        "The computational graph of initializing a variable as a tensor of zeros is shown in the following figure:\n",
        "![image.png](data:image/png;base64,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)\n"
      ],
      "metadata": {
        "id": "GKrJc_5yqa_2"
      }
    },
    {
      "cell_type": "markdown",
      "source": [
        "In *Figure 1*, we can see what the computational graph looks like in detail with justt one variable, initialized to all zeros. The grey shaded region is a very detailed view of the operations and constantss involved. The main computational graph with less detail is the smaller graph outside of the grey region in the uppper right corner. For more details on creating and visualizing graphs."
      ],
      "metadata": {
        "id": "cNHIrls8Em34"
      }
    },
    {
      "cell_type": "markdown",
      "source": [
        "Similarly, the computational graph of feeding a *numpy* array into a placeholder can be seen in the following figure:\n",
        "\n",
        "![image.png](data:image/png;base64,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)\n",
        "\n",
        "*Figure 2*: Here is the computational graph of a placeholder initialized. The grey shaded region is a very detailed view of the operations and constants involved. The main computational graph with less detail is the smaller graph outside of the grey region in the upper right."
      ],
      "metadata": {
        "id": "TiN30P8ROas6"
      }
    },
    {
      "cell_type": "markdown",
      "source": [
        "There's more...\n",
        "---\n",
        "During the run of the computational graph, we have to tell TensorFlow when to initialize ther variables we have created. TensorFlow must be informed about when it can initialize the variables. While each variable has an *initializer* method, the most common way to do this is to use the *helper* function, which is *global_variables_initializer()*. This function creates an operation in the graph that initailizes all the variables we have created, as follows:\n",
        "\n",
        "```\n",
        "initializer_op = tf.global_variables_initializer()\n",
        "```\n",
        "\n",
        "But if we want to initialize a variable based on the results of initializing another variable, we have to initialize variables in the order we wantt, as follows:"
      ],
      "metadata": {
        "id": "NA0rX_ccPaO6"
      }
    },
    {
      "cell_type": "code",
      "source": [
        "tf.compat.v1.disable_eager_execution()\n",
        "sess = tf.compat.v1.Session()\n",
        "first_var = tf.Variable(tf.zeros([2, 3]))\n",
        "sess.run(first_var.initializer)\n",
        "second_var = tf.Variable(tf.zeros_like(first_var))\n",
        "# Depends on first_var\n",
        "sess.run(second_var.initializer)"
      ],
      "metadata": {
        "id": "J4htR39KRHOG"
      },
      "execution_count": 6,
      "outputs": []
    },
    {
      "cell_type": "markdown",
      "source": [
        "# Working with Matrices\n",
        "\n",
        "Understanding how TensorFlow works with matrics is very important to understanding the flow of data through computational graphs."
      ],
      "metadata": {
        "id": "co2w9N4aTWBk"
      }
    },
    {
      "cell_type": "markdown",
      "source": [
        "Many algorithms depend on matrix operations. TensorFlow gives us easy-to-use operations to perform such matrix calculations. For all of the following examples, we can create a graph session by running the following code:\n",
        "```\n",
        "import tensorflow as tf\n",
        "sess = tf.Session()\n",
        "```"
      ],
      "metadata": {
        "id": "YOh0g7rMTtPu"
      }
    },
    {
      "cell_type": "code",
      "source": [
        "import tensorflow.compat.v1 as tf\n",
        "import numpy as np\n",
        "tf.disable_v2_behavior()"
      ],
      "metadata": {
        "id": "mH38UUnSYisz"
      },
      "execution_count": 9,
      "outputs": []
    },
    {
      "cell_type": "markdown",
      "source": [
        "##How to do it...\n",
        "\n",
        "1. Creating matrices:\n",
        "We can create two-dimensional matrices from *numpy* arrays or nested lists, as we described in the earlier section on tensors. We can also use the tensor creation functions and specify a two-dimensional shape for functions such as *zeros()*, *ones()*, *truncated_normal()*, and so on. TensorFlow also allows us to create a diagonal matrix from a one-dimensional array or list with the function *diag()*, as follows:\n"
      ],
      "metadata": {
        "id": "2SeAx64WW2x9"
      }
    },
    {
      "cell_type": "code",
      "source": [
        "sess = tf.Session()\n",
        "identity_matrix = tf.diag([1.0, 1.0, 1.0])\n",
        "A = tf.truncated_normal([2, 3])\n",
        "B = tf.fill([2, 3], 5.0)\n",
        "C = tf.random_uniform([3, 2])\n",
        "D = tf.convert_to_tensor(np.array([[1., 2., 3.], [-3., -7., -1.], [0., 5., -2.]]))\n",
        "print(f\"identity_matrix: \\n {sess.run(identity_matrix)} \\n\")\n",
        "print(f\"A: \\n {sess.run(A)} \\n\")\n",
        "print(f\"B: \\n {sess.run(B)} \\n\")\n",
        "print(f\"C: \\n {sess.run(C)} \\n\")\n",
        "print(f\"D: \\n {sess.run(D)} \\n\")\n"
      ],
      "metadata": {
        "colab": {
          "base_uri": "https://localhost:8080/"
        },
        "id": "EkxAAR22X1-3",
        "outputId": "61b3799d-db48-41b3-e452-ceb039e6cf10"
      },
      "execution_count": 11,
      "outputs": [
        {
          "output_type": "stream",
          "name": "stdout",
          "text": [
            "identity_matrix: \n",
            " [[1. 0. 0.]\n",
            " [0. 1. 0.]\n",
            " [0. 0. 1.]] \n",
            "\n",
            "A: \n",
            " [[-0.8057133   0.45799333  0.7593818 ]\n",
            " [-0.18700159  0.5078752   1.6427008 ]] \n",
            "\n",
            "B: \n",
            " [[5. 5. 5.]\n",
            " [5. 5. 5.]] \n",
            "\n",
            "C: \n",
            " [[0.70248425 0.13724959]\n",
            " [0.23442471 0.8522475 ]\n",
            " [0.8700485  0.2226026 ]] \n",
            "\n",
            "D: \n",
            " [[ 1.  2.  3.]\n",
            " [-3. -7. -1.]\n",
            " [ 0.  5. -2.]] \n",
            "\n"
          ]
        }
      ]
    },
    {
      "cell_type": "markdown",
      "source": [
        "**Note**\n",
        "\n",
        "Note that if we were to run *sess.run(C) again, we would reinitialize the random variables and end up with different random values.\n",
        "\n",
        "\n"
      ],
      "metadata": {
        "id": "PPNwlR-Ka0yq"
      }
    },
    {
      "cell_type": "markdown",
      "source": [
        "2. Addition and substraction uses the followingg function:"
      ],
      "metadata": {
        "id": "ONs2ZsgFbDUs"
      }
    },
    {
      "cell_type": "code",
      "source": [
        "print(f\"A + B = \\n {sess.run(A + B)}\\n\")\n",
        "print(f\"B - B = \\n {sess.run(B - B)}\\n\")\n",
        "print(f\"Multiplication = \\n {sess.run(tf.matmul(B, identity_matrix))}\")"
      ],
      "metadata": {
        "colab": {
          "base_uri": "https://localhost:8080/"
        },
        "id": "1JVftvcBbNsT",
        "outputId": "ea3acb50-5322-43f5-8eb0-07af398a6bf5"
      },
      "execution_count": 13,
      "outputs": [
        {
          "output_type": "stream",
          "name": "stdout",
          "text": [
            "A + B = \n",
            " [[3.7403748 4.323096  6.4215183]\n",
            " [6.031243  5.6063557 4.971097 ]]\n",
            "\n",
            "B - B = \n",
            " [[0. 0. 0.]\n",
            " [0. 0. 0.]]\n",
            "\n",
            "Multiplication = \n",
            " [[5. 5. 5.]\n",
            " [5. 5. 5.]]\n"
          ]
        }
      ]
    },
    {
      "cell_type": "markdown",
      "source": [
        "3. Also, the function *matmul()* has arguments that specify whether or not to transpose the argument before multiplication or whether each matrix is sparse."
      ],
      "metadata": {
        "id": "kaWcRT8adOaq"
      }
    },
    {
      "cell_type": "markdown",
      "source": [
        "4. Transpose the arguments as follows:"
      ],
      "metadata": {
        "id": "0UfzMMVzdvly"
      }
    },
    {
      "cell_type": "code",
      "source": [
        "print(f\"Transposed C = \\n {sess.run(tf.transpose(C))}\")"
      ],
      "metadata": {
        "colab": {
          "base_uri": "https://localhost:8080/"
        },
        "id": "LwNgdC2Id0s7",
        "outputId": "a50bb83b-4d80-4faf-c11b-42b8b9693291"
      },
      "execution_count": 14,
      "outputs": [
        {
          "output_type": "stream",
          "name": "stdout",
          "text": [
            "Transposed C = \n",
            " [[0.16186428 0.75228333 0.5503235 ]\n",
            " [0.7155887  0.9258647  0.5678252 ]]\n"
          ]
        }
      ]
    },
    {
      "cell_type": "markdown",
      "source": [
        "5. Again, it is worth mentioning the reinitializing that gives us different values than before."
      ],
      "metadata": {
        "id": "9iQ2CU2oeB6x"
      }
    },
    {
      "cell_type": "markdown",
      "source": [
        "6. For the determinant, use the following:"
      ],
      "metadata": {
        "id": "n9QNCKhBeNnX"
      }
    },
    {
      "cell_type": "code",
      "source": [
        "print(f\"determinant of D = \\n {sess.run(tf.matrix_determinant(D))} \\n\")\n",
        "# Inverse:\n",
        "print(f\"inverse of D = \\n {sess.run(tf.matrix_inverse(D))}\")"
      ],
      "metadata": {
        "colab": {
          "base_uri": "https://localhost:8080/"
        },
        "id": "Wq0ZDPSGeTBM",
        "outputId": "6d8a3dc2-a5f8-43c7-89c7-70010a36964b"
      },
      "execution_count": 17,
      "outputs": [
        {
          "output_type": "stream",
          "name": "stdout",
          "text": [
            "determinant of D = \n",
            " -37.99999999999999 \n",
            "\n",
            "inverse of D = \n",
            " [[-0.5        -0.5        -0.5       ]\n",
            " [ 0.15789474  0.05263158  0.21052632]\n",
            " [ 0.39473684  0.13157895  0.02631579]]\n"
          ]
        }
      ]
    },
    {
      "cell_type": "markdown",
      "source": [
        "**Note**\n",
        "\n",
        "Note that the inverse method is based on the Cholesky decomposition if the matrix is symmetric positive definite or the LU decomposition otherwise."
      ],
      "metadata": {
        "id": "MsQ8G5Efe0aN"
      }
    },
    {
      "cell_type": "markdown",
      "source": [
        "7. Decompositions:"
      ],
      "metadata": {
        "id": "6xImv35xfFaN"
      }
    },
    {
      "cell_type": "code",
      "source": [
        "# For the Cholesky decomposition, use the following:\n",
        "print(f\"Cholesky decomposition of identity matrix = \\n {sess.run(tf.cholesky(identity_matrix))}\")"
      ],
      "metadata": {
        "colab": {
          "base_uri": "https://localhost:8080/"
        },
        "id": "Qu9mQho1fKJO",
        "outputId": "0d4558e3-ede4-42a3-8c1e-ece99595778b"
      },
      "execution_count": 18,
      "outputs": [
        {
          "output_type": "stream",
          "name": "stdout",
          "text": [
            "Cholesky decomposition of identity matrix = \n",
            " [[1. 0. 0.]\n",
            " [0. 1. 0.]\n",
            " [0. 0. 1.]]\n"
          ]
        }
      ]
    },
    {
      "cell_type": "markdown",
      "source": [
        "8. For Eigenvalues and eigenvectors, use the following code:"
      ],
      "metadata": {
        "id": "EO3f3oA-flWs"
      }
    },
    {
      "cell_type": "code",
      "source": [
        "print(sess.run(tf.self_adjoint_eig(D)))"
      ],
      "metadata": {
        "colab": {
          "base_uri": "https://localhost:8080/"
        },
        "id": "DsMTIU3qfsVV",
        "outputId": "52b065e3-9331-4932-d4d4-20930ac933d0"
      },
      "execution_count": 19,
      "outputs": [
        {
          "output_type": "stream",
          "name": "stdout",
          "text": [
            "(array([-10.65907521,  -0.22750691,   2.88658212]), array([[ 0.21749542,  0.63250104, -0.74339638],\n",
            "       [ 0.84526515,  0.2587998 ,  0.46749277],\n",
            "       [-0.4880805 ,  0.73004459,  0.47834331]]))\n"
          ]
        }
      ]
    },
    {
      "cell_type": "markdown",
      "source": [
        "**Note**\n",
        "\n",
        "Note that the function *self_adjoint_eig()* outputs the eigenvalues in the first row and the subsequent vectors in the remaining vectors. In mathematics, this is known as the Eigen decomposition of a matrix."
      ],
      "metadata": {
        "id": "7u0oS1Jgf-H9"
      }
    },
    {
      "cell_type": "markdown",
      "source": [
        "TensorFlow provides all the tools for us to get started with numerical computations and adding such computations to our graphs. This notation might seem quite heavy for simple matrix operations. Remember that we are adding these operations to the graph and telling TensorFlow what tensors to run through those operations. While this might seem verbose now, it helps to understand the notations in later chapters, when this way of computation will make it easier to accomplish our goals."
      ],
      "metadata": {
        "id": "6jfUurVcgYyN"
      }
    },
    {
      "cell_type": "markdown",
      "source": [
        "# Declaring Operations\n",
        "\n",
        "Now we must learn about the other operations we can add to a TensorFlow graph."
      ],
      "metadata": {
        "id": "MVhZZ_nMhWkG"
      }
    },
    {
      "cell_type": "markdown",
      "source": [
        "Besides the standard arithmetic operations, TensorFlow provides us with\n",
        "more operations that we should be aware of. We need to know how to use\n",
        "them before proceeding. Again, we can create a graph session by running\n",
        "the following code:\n",
        "```\n",
        "import tensorflow as tf\n",
        "sess = tf.Session()\n",
        "```"
      ],
      "metadata": {
        "id": "qgQuAKcfiXtg"
      }
    },
    {
      "cell_type": "code",
      "source": [
        "import tensorflow.compat.v1 as tf\n",
        "import numpy as np"
      ],
      "metadata": {
        "id": "WcZqUJUnipN-"
      },
      "execution_count": 21,
      "outputs": []
    },
    {
      "cell_type": "markdown",
      "source": [
        "## How to do it...\n",
        "\n",
        "TensorFlow has the standard operations on tensors: *add()*, *mul()*, and *div()*. Note that all of theses operations in this section will evaluate the inputs element-wise unless specified otherwise:\n"
      ],
      "metadata": {
        "id": "bHtEi0OJikg1"
      }
    },
    {
      "cell_type": "markdown",
      "source": [
        "1. TensorFlow provides some variations of *div()* and relevant functions."
      ],
      "metadata": {
        "id": "gz6zufQGlVLp"
      }
    },
    {
      "cell_type": "markdown",
      "source": [
        "2. It is worth mentioning that *div()* returns the same type as the inputs. This mean it really returns the floor of the division(akin to Python 2) if inputs are integers. To return the Python 3 version, which casts integers into floats before dividing and always returning a float, TensorFlow provides the function *truediv()* function, as shown as follows:"
      ],
      "metadata": {
        "id": "jKSQaBMelcTG"
      }
    },
    {
      "cell_type": "code",
      "source": [
        "print(f\"3, 4 division as int = \\n {sess.run(tf.div(3, 4))} \\n\")\n",
        "print(f\"3, 4 division as float = \\n {sess.run(tf.truediv(3, 4))} \\n\")"
      ],
      "metadata": {
        "colab": {
          "base_uri": "https://localhost:8080/"
        },
        "id": "aMay_2ZbmDzW",
        "outputId": "4cdf59d5-8a73-4045-a877-ceddd25f16dc"
      },
      "execution_count": 22,
      "outputs": [
        {
          "output_type": "stream",
          "name": "stdout",
          "text": [
            "3, 4 division as int = \n",
            " 0 \n",
            "\n",
            "3, 4 division as float = \n",
            " 0.75 \n",
            "\n"
          ]
        }
      ]
    },
    {
      "cell_type": "markdown",
      "source": [
        "3. If we have floats and want an integer division, we can use the function *floordiv()*. Note that this will still return a float, but rounded down to the nearest integer. The function is shown as follows:"
      ],
      "metadata": {
        "id": "vWulTr-0moux"
      }
    },
    {
      "cell_type": "code",
      "source": [
        "print(sess.run(tf.floordiv(3.0, 4.0)))"
      ],
      "metadata": {
        "colab": {
          "base_uri": "https://localhost:8080/"
        },
        "id": "tvcXvnvsm7uD",
        "outputId": "15e602da-10a4-419c-910b-20158b04c5a0"
      },
      "execution_count": 23,
      "outputs": [
        {
          "output_type": "stream",
          "name": "stdout",
          "text": [
            "0.0\n"
          ]
        }
      ]
    },
    {
      "cell_type": "markdown",
      "source": [
        "4. Another important function is *mod()*. This function returns the remainder after the division. It is shown as follows:"
      ],
      "metadata": {
        "id": "nU19aRxEnH3y"
      }
    },
    {
      "cell_type": "code",
      "source": [
        "print(sess.run(tf.mod(22.0, 5.0)))"
      ],
      "metadata": {
        "colab": {
          "base_uri": "https://localhost:8080/"
        },
        "id": "nggWshhLnUKW",
        "outputId": "8085152a-1700-469f-e780-212409dd44bd"
      },
      "execution_count": 24,
      "outputs": [
        {
          "output_type": "stream",
          "name": "stdout",
          "text": [
            "2.0\n"
          ]
        }
      ]
    },
    {
      "cell_type": "markdown",
      "source": [
        "5. The cross-product between two tensors is achieved by the *cross()* function. Remember that the cross-product is only defined for two three-dimensional vectors, so it only accepts two three-dimensional tensors. The function is shown as follows:"
      ],
      "metadata": {
        "id": "-tow5S4zncZE"
      }
    },
    {
      "cell_type": "code",
      "source": [
        "print(sess.run(tf.cross([1., 0., 0.], [0., 1., 0.])))"
      ],
      "metadata": {
        "colab": {
          "base_uri": "https://localhost:8080/"
        },
        "id": "i-Ly-_fHn3z3",
        "outputId": "6ea7e086-b394-47c7-8e54-62abfe2c0319"
      },
      "execution_count": 25,
      "outputs": [
        {
          "output_type": "stream",
          "name": "stdout",
          "text": [
            "[0. 0. 1.]\n"
          ]
        }
      ]
    },
    {
      "cell_type": "markdown",
      "source": [
        "6. Here is a compact list of the more common math functions. All of these functions operate elementwise.\n",
        "\n",
        "> **abs()**    ------------> Absolute value of one imput tensor\n",
        "\n",
        "> **ceil()**   ------------> Ceiling function of one input tensor\n",
        "\n",
        "> **cos()**    ------------> Cosine function of one input tensor\n",
        "\n",
        "> **exp()**    ------------> Base e exponential of one input tensor\n",
        "\n",
        "> **floor()**  ----------> Floor function of one input tensor\n",
        "\n",
        "> **inv()**    -------------> Multiplicative inverse(1/x) of one input tensor\n",
        "\n",
        "> **log()**    ------------> Natural logarithm of one input tensor\n",
        "\n",
        "> **maximum()** ------------> Element-wise max of two tensors\n",
        "\n",
        "> **minimum()** -------------> Element-wise min of two tensors\n",
        "\n",
        "> **neg()** -----------> Negative of one input tensor\n",
        "\n",
        "> **pow()** ----------> The first tensor raised to the second tensor element-wise\n",
        "\n",
        "> **reound()** -----> Rounds one input tensor\n",
        "\n",
        "> **rsqrt()** ---------> One over the square root of one tensor\n",
        "\n",
        "> **sign()** ----------> Returns -1, 0, 1, depending on the sign of the tensor\n",
        "\n",
        "> **sin()** ------------> Sine function of one input tensor\n",
        "\n",
        "> **sqrt()** -----------> Square root of one input tensor\n",
        "\n",
        "> **square()** ------> Square of one input tensor"
      ],
      "metadata": {
        "id": "Z2BRvaINoLuP"
      }
    },
    {
      "cell_type": "markdown",
      "source": [
        "7. **Specialty mathmematical functions:** These are some special math functions that get used in machine learinig that are worth mentioning and TensorFlow has built in functions for them. Again, these functions operate element-wise, unless specified otherwise:\n",
        "\n",
        "> **digamma()** -------------------> Psi function, the derivative of the *lgamma()* function\n",
        "\n",
        "> **erf()** ------------------------------> Gaussian error function, element-wise, of one tensor\n",
        "\n",
        "> **erfc()** ----------------------------> Complimentary error function of one tensor\n",
        "\n",
        "> **igamma()** ---------------------> Lower regularized incomplete gamma function\n",
        "\n",
        "> **igammac()** -------------------> Upper regularized incomplete gamma function\n",
        "\n",
        "> **lbeta()** --------------------------> Natural logarithm of the absolute value of the beta function\n",
        "\n",
        "> **lgamma()** ---------------------> Natural logarthm of the absolute value of the gamma function\n",
        "\n",
        "> **squared_difference()** -------> Computes the square of the differences between two tensors"
      ],
      "metadata": {
        "id": "olzAOppfru56"
      }
    },
    {
      "cell_type": "markdown",
      "source": [
        "It is important to know what functions are available to us to add to our computational graphs, Mostly, we will be concerned with the preceding functinos. We can also generate many different custom functions as compositions of the preceding functions, as follows:"
      ],
      "metadata": {
        "id": "bYwRplS_tyKr"
      }
    },
    {
      "cell_type": "code",
      "source": [
        "# Tangent function (tan(pi / 4) = 1)\n",
        "print(sess.run(tf.div(tf.sin(3.1416 / 4), tf.cos(3.1416 / 4))))"
      ],
      "metadata": {
        "colab": {
          "base_uri": "https://localhost:8080/"
        },
        "id": "WXOUgUiluLvS",
        "outputId": "e5d37ddc-a9f2-4c83-e20e-919186e0d43b"
      },
      "execution_count": 26,
      "outputs": [
        {
          "output_type": "stream",
          "name": "stdout",
          "text": [
            "1.0000036\n"
          ]
        }
      ]
    },
    {
      "cell_type": "markdown",
      "source": [
        "If we with to add other operations to our graphs that are not listed here, we must create our own from the preceding functions. Here is an example of an operation not listed previously that we can add to our graph. We choose to add a custom polynomial funtion, **3x^2 - x + 10**:"
      ],
      "metadata": {
        "id": "xvtBtVzzujbc"
      }
    },
    {
      "cell_type": "code",
      "source": [
        "def custom_polynomial(value):\n",
        "  return (((3 * tf.square(value)) - value) + 10)\n",
        "print(sess.run(custom_polynomial(11)))"
      ],
      "metadata": {
        "colab": {
          "base_uri": "https://localhost:8080/"
        },
        "id": "WQs2M_e5vDY2",
        "outputId": "225677b9-1f4e-42f5-fd5f-32de95c6c228"
      },
      "execution_count": 28,
      "outputs": [
        {
          "output_type": "stream",
          "name": "stdout",
          "text": [
            "362\n"
          ]
        }
      ]
    }
  ]
}